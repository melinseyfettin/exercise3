{
 "cells": [
  {
   "cell_type": "markdown",
   "metadata": {},
   "source": [
    "# 8. Classes"
   ]
  },
  {
   "cell_type": "markdown",
   "metadata": {},
   "source": [
    "## 8.1: Rational Numbers"
   ]
  },
  {
   "cell_type": "code",
   "execution_count": 2,
   "metadata": {
    "collapsed": true
   },
   "outputs": [],
   "source": [
    "class Rational:\n",
    "    \n",
    "    # Class of Rational Numbers\n",
    "    # Can do add, sub, mul, div, can compare\n",
    "    \n",
    "    def __init__(self, p, q=1):\n",
    "        g = self.gcd(p, q)\n",
    "        self.p = p / g\n",
    "        self.q = q / g\n",
    "\n",
    "    def gcd(self, a, b):\n",
    "        if b == 0:\n",
    "            return a\n",
    "        else:\n",
    "            return self.gcd(b, a%b)\n",
    "\n",
    "    def __add__(self, other):\n",
    "        p = self.p * other.q + other.p * self.q\n",
    "        q = self.q * other.q\n",
    "        return Rational(p, q)\n",
    "\n",
    "    def __neg__(self):\n",
    "        return Rational(-self.p, self.q)\n",
    "\n",
    "    def __sub__(self, other):\n",
    "        return self.__add__(-other)\n",
    "\n",
    "    def __mul__(self, other):\n",
    "        p = self.p * other.p\n",
    "        q = self.q * other.q\n",
    "        return Rational(p, q)\n",
    "\n",
    "    def __div__(self, other):\n",
    "        p = self.p * other.q\n",
    "        q = self.q * other.p\n",
    "        return Rational(p, q)\n",
    "\n",
    "    def __eq__(self, other):\n",
    "        return self.p == other.p and self.q == other.q\n",
    "\n",
    "    def __float__(self):\n",
    "        return 1.0 * self.p / self.q\n",
    "\n",
    "    def __repr__(self):\n",
    "        return str(self.p) + '/' + str(self.q)\n"
   ]
  },
  {
   "cell_type": "code",
   "execution_count": null,
   "metadata": {},
   "outputs": [],
   "source": [
    "from rational_numbers import Rational\n",
    "\n",
    "r1 = Rational(10, 2)\n",
    "r2 = Rational(5, 1)\n",
    "print float(r1)"
   ]
  },
  {
   "cell_type": "markdown",
   "metadata": {},
   "source": [
    "## 8.2: Rock Paper Scissors"
   ]
  },
  {
   "cell_type": "code",
   "execution_count": 5,
   "metadata": {
    "collapsed": true
   },
   "outputs": [],
   "source": [
    "#TODO"
   ]
  },
  {
   "cell_type": "markdown",
   "metadata": {},
   "source": [
    "## 8.3: Hangman Agent"
   ]
  },
  {
   "cell_type": "code",
   "execution_count": 7,
   "metadata": {
    "collapsed": true
   },
   "outputs": [],
   "source": [
    "#TODO"
   ]
  },
  {
   "cell_type": "markdown",
   "metadata": {},
   "source": [
    "## 8.4: Sparse and Dense Vectors"
   ]
  },
  {
   "cell_type": "code",
   "execution_count": 8,
   "metadata": {
    "collapsed": true
   },
   "outputs": [],
   "source": [
    "class SparseVec:\n",
    "\n",
    "    def __init__(self, dimension):\n",
    "        self.dimension = dimension\n",
    "        self.data = {}\n",
    "\n",
    "    def __str__(self):\n",
    "        return 'Sparse Vector {}'. format(self.data)\n",
    "\n",
    "    def __len__(self):\n",
    "        return self.dimension    # what matters is the size of the vector, not the length of the stored data\n",
    "\n",
    "    def __getitem__(self, key):\n",
    "        assert isinstance(key, int)\n",
    "        assert 0 <= key < self.dimension, 'the key must be compatible with the vector dimension' \n",
    "        try:\n",
    "            return self.data[key]\n",
    "        except KeyError:\n",
    "            return 0     # must return zero if valid key but no entry\n",
    "\n",
    "    def __setitem__(self, key, val):\n",
    "        assert isinstance(key, int)\n",
    "        assert 0 <= key < self.dimension, 'this vector does not have an appropriate dimension'\n",
    "        if val != 0:     # avoid cluttering with zero values\n",
    "            self.data[key] = val\n",
    "\n",
    "    def purge_zeros(self):  # <-- resparsifies a vector by purging the zero values\n",
    "        nonzerodict = {}\n",
    "        for key, val in self.data.items():\n",
    "            if val != 0:\n",
    "                nonzerodict[key] = val\n",
    "        self.data = nonzerodict\n",
    "\n",
    "    def __add__(self, other):"
   ]
  },
  {
   "cell_type": "code",
   "execution_count": null,
   "metadata": {},
   "outputs": [],
   "source": [
    "#TODO"
   ]
  },
  {
   "cell_type": "markdown",
   "metadata": {},
   "source": [
    "## 8.5: Implementing The Set Class "
   ]
  },
  {
   "cell_type": "code",
   "execution_count": null,
   "metadata": {},
   "outputs": [],
   "source": [
    "class mySet:\n",
    "    \n",
    "    # Class of Set that support add, issubset, issuperset\n",
    "    # union and intersection operations\n",
    "    \n",
    "    def __init__(self):\n",
    "        self.dict = {}\n",
    "\n",
    "    def __iter__(self):\n",
    "        return iter(self.dict.keys())\n",
    "\n",
    "    def __contains__(self, item):\n",
    "        return item in self.dict\n",
    "\n",
    "    def add(self, item):\n",
    "        self.dict[item] = 1\n",
    "\n",
    "    def __len__(self):\n",
    "        return len(self.dict)\n",
    "\n",
    "    def issubset(self, t):\n",
    "        key_set = self.dict.keys()\n",
    "        for key in key_set:\n",
    "            if key not in t:\n",
    "                return False\n",
    "        return True\n",
    "\n",
    "    def issuperset(self, t):\n",
    "        key_set = self.dict.keys()\n",
    "        for key in t:\n",
    "            if key not in key_set:\n",
    "                return False\n",
    "        return True\n",
    "\n",
    "    def union(self, t):\n",
    "        for key in t:\n",
    "            self.dict[key] = 1\n",
    "\n",
    "    def intersection(self, t):\n",
    "        key_set = self.dict.keys()\n",
    "        for key in key_set:\n",
    "            if key not in t:\n",
    "            \tself.dict.pop(key)\n",
    "\n",
    "    def copy(self):\n",
    "    \tnew_set = mySet()\n",
    "        for e in self.dict:\n",
    "            new_set.add(e)\n",
    "        return new_set\n",
    "\n",
    "    def __str__(self):\n",
    "        string = '{'\n",
    "        for e in self.dict.keys():\n",
    "            string += str(e)\n",
    "            string += ','\n",
    "        string = string[:-1]\n",
    "        return string + '}'"
   ]
  },
  {
   "cell_type": "code",
   "execution_count": null,
   "metadata": {},
   "outputs": [],
   "source": [
    "from set_class import mySet\n",
    "\n",
    "set1 = mySet()\n",
    "set1.add(1)\n",
    "set1.add(2)\n",
    "\n",
    "set2 = mySet()\n",
    "set2.add(1)\n",
    "set2.add(3)\n",
    "\n",
    "set3 = set1.copy()\n",
    "print set1.issubset(set2)\n",
    "print set1.issuperset(set2)\n",
    "set1.union(set2)\n",
    "print set1\n",
    "print set1.issuperset(set2)\n",
    "print set3\n"
   ]
  },
  {
   "cell_type": "markdown",
   "metadata": {},
   "source": [
    "## 8.6:  Binary Search Tree"
   ]
  },
  {
   "cell_type": "code",
   "execution_count": null,
   "metadata": {},
   "outputs": [],
   "source": [
    "class Node:\n",
    "    def __init__(self, root):\n",
    "        self.root = root\n",
    "\n",
    "        self.left = None\n",
    "        self.right = None\n",
    "\n",
    "        self.counter = 0\n",
    "\n",
    "    def insert(self, nodeValue):\n",
    "\n",
    "        # Inserts new node node\n",
    "\n",
    "        if nodeValue < self.root:\n",
    "            if self.left is None:\n",
    "                self.left = Node(nodeValue)\n",
    "            else:\n",
    "                self.left.insert(nodeValue)\n",
    "        else:\n",
    "            if self.right is None:\n",
    "                self.right = Node(nodeValue)\n",
    "            else:\n",
    "                self.right.insert(nodeValue)\n",
    "\n",
    "    def search(self, needle, parent=None):\n",
    "\n",
    "        # Searches for a node and returns it if found,along with it's parent\n",
    "\n",
    "        if needle < self.root:\n",
    "            if self.left is None:\n",
    "                return None, None\n",
    "            return self.left.search(needle, self)\n",
    "        elif needle > self.root:\n",
    "            if self.right is None:\n",
    "                return None, None\n",
    "            return self.right.search(needle, self)\n",
    "        else:\n",
    "            return self, parent\n",
    "\n",
    "    def lookupDepth(self, depth=1):\n",
    "\n",
    "        # Recursive function to get the depth of tree\n",
    "\n",
    "        if self.left is None:\n",
    "            return depth\n",
    "        else:\n",
    "            return self.left.lookupDepth(depth + 1)\n",
    "\n",
    "        if self.right is None:\n",
    "            return depth\n",
    "        else:\n",
    "            return self.right.lookupDepth(depth + 1)\n",
    "\n",
    "    def viewNodes(self):\n",
    "\n",
    "       # Generator to get the nodes data\n",
    "\n",
    "        stack = []\n",
    "        node = self\n",
    "\n",
    "        while stack or node:\n",
    "            if node:\n",
    "                stack.append(node)\n",
    "                node = node.left\n",
    "            else:\n",
    "                node = stack.pop()\n",
    "                yield node.root\n",
    "                node = node.right\n",
    "\n",
    "    def __repr__(self):\n",
    "        return \"NodeTree({!r})\".format(self.root)\n"
   ]
  },
  {
   "cell_type": "markdown",
   "metadata": {},
   "source": [
    "## 8.7: Ordinary Least Squares"
   ]
  },
  {
   "cell_type": "code",
   "execution_count": null,
   "metadata": {},
   "outputs": [],
   "source": [
    "from sklearn.linear_model import LinearRegression\n",
    "\n",
    "class OLS:\n",
    "\n",
    "     # Ordinary Least Square LinearRegression\n",
    "\n",
    "    def __init__(self):\n",
    "        self.lm = LinearRegression()\n",
    "\n",
    "    def fit(self, X, Y):\n",
    "        self.lm.fit(X, Y)\n",
    "\n",
    "    def predict(self, x):\n",
    "\n",
    "       # x is an array where each row is an example\n",
    "\n",
    "         return self.lm.predict(x)\n",
    "\n",
    "    def summarize(self):\n",
    "        print '='*20\n",
    "        print 'The (coefficients, intercept) are as follows:'\n",
    "        return (self.lm.coef_, self.lm.intercept_)\n",
    "        print '='*20\n",
    "\n",
    "ols = OLS()\n",
    "X = [[1], [2], [3]]\n",
    "Y = [1,3,5]\n",
    "ols.fit(X,Y)\n",
    "print ols.predict([[4],[5],[6]])\n",
    "print ols.summarize()"
   ]
  }
 ],
 "metadata": {
  "kernelspec": {
   "display_name": "Python 3",
   "language": "python",
   "name": "python3"
  },
  "language_info": {
   "codemirror_mode": {
    "name": "ipython",
    "version": 3
   },
   "file_extension": ".py",
   "mimetype": "text/x-python",
   "name": "python",
   "nbconvert_exporter": "python",
   "pygments_lexer": "ipython3",
   "version": "3.8.3"
  }
 },
 "nbformat": 4,
 "nbformat_minor": 2
}
